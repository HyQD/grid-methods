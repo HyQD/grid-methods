{
 "cells": [
  {
   "cell_type": "code",
   "execution_count": 1,
   "id": "7760ebbe",
   "metadata": {},
   "outputs": [],
   "source": [
    "import numpy as np\n",
    "from grid_methods.pseudospectral_grids.gauss_legendre_lobatto import (\n",
    "    GaussLegendreLobatto,\n",
    "    Linear_map,\n",
    ")\n",
    "from matplotlib import pyplot as plt\n",
    "from scipy.special import erf"
   ]
  },
  {
   "cell_type": "code",
   "execution_count": 2,
   "id": "7f373c01",
   "metadata": {},
   "outputs": [],
   "source": [
    "def Verfgau(d, Z=1.0, mu=1.0):\n",
    "    \"\"\"\n",
    "    Args:\n",
    "    d: d=|r-A| where A is the nucleus position\n",
    "    Z: nuclear charge\n",
    "    mu: screening parameter\n",
    "    \"\"\"\n",
    "    c = 0.923 + 1.568 * mu\n",
    "    alpha = 0.2411 + 1.405 * mu\n",
    "    long_range = erf(mu * Z * d) / (Z * d)\n",
    "    return -(Z**2) * (\n",
    "        c * np.exp(-(alpha**2) * Z**2 * d**2) + long_range\n",
    "    )\n",
    "def V_HO(r, z, omega=1.0):\n",
    "    return 0.5*omega**2*(r**2+z**2)"
   ]
  },
  {
   "cell_type": "code",
   "execution_count": 3,
   "id": "3d00d021",
   "metadata": {},
   "outputs": [],
   "source": [
    "\"\"\"\n",
    "Define grid paramters\n",
    "\"\"\"\n",
    "N_rho = 30\n",
    "rho_min = 0\n",
    "rho_max = 10.0\n",
    "\n",
    "N_z = 2 * N_rho\n",
    "z_min = -10.0\n",
    "z_max = 10.0"
   ]
  },
  {
   "cell_type": "markdown",
   "id": "5e0547b3",
   "metadata": {},
   "source": [
    "Setup Gauss-Legendre-Lobatto grid.\n",
    "The inner grid points $x_1,\\cdots, x_{N-1} \\in [-1,1]$ are the zeros of the derivative of the N-th order Legendre \n",
    "polynomial $P^\\prime_N(x)$, while the end points are $x_0=-1, x_N=1$. Additionally, we map the points \n",
    "$\\rho(x): [-1,1] \\rightarrow [0, \\rho_{max}]$, $z(x): [-1,1] \\rightarrow [z_{min}, z_{max}]$."
   ]
  },
  {
   "cell_type": "code",
   "execution_count": 4,
   "id": "a52205b2",
   "metadata": {},
   "outputs": [],
   "source": [
    "GLL_rho = GaussLegendreLobatto(N_rho, Linear_map(rho_min, rho_max))\n",
    "rho = GLL_rho.r[1:-1]\n",
    "\n",
    "GLL_z = GaussLegendreLobatto(N_z, Linear_map(z_min, z_max))\n",
    "z = GLL_z.r[1:-1]"
   ]
  },
  {
   "cell_type": "code",
   "execution_count": 5,
   "id": "370042e4",
   "metadata": {},
   "outputs": [
    {
     "data": {
      "image/png": "[encoded data removed]",
      "text/plain": [
       "<Figure size 432x288 with 2 Axes>"
      ]
     },
     "metadata": {
      "needs_background": "light"
     },
     "output_type": "display_data"
    }
   ],
   "source": [
    "\"\"\"\n",
    "Plot the mapped grid points\n",
    "\"\"\"\n",
    "plt.figure()\n",
    "plt.subplot(211)\n",
    "plt.plot(rho, np.zeros(N_rho-1), 'o', label=r'$\\rho$')\n",
    "plt.legend()\n",
    "plt.subplot(212)\n",
    "plt.plot(z, np.zeros(N_z-1), 'o', label='z')\n",
    "plt.legend()\n",
    "plt.show()"
   ]
  },
  {
   "cell_type": "code",
   "execution_count": 6,
   "id": "fd3e32e0",
   "metadata": {},
   "outputs": [],
   "source": [
    "D2_rho = GLL_rho.D2[1:-1, 1:-1]\n",
    "D2_z = GLL_z.D2[1:-1, 1:-1]"
   ]
  },
  {
   "cell_type": "code",
   "execution_count": 7,
   "id": "de56a6dc",
   "metadata": {},
   "outputs": [],
   "source": [
    "\"\"\"\n",
    "Modify the differentiation matrix to account for the Neumann boundary condition\n",
    "    dpsi(rho,z)/drho|rho=0 = 0\n",
    "\"\"\"\n",
    "D1 = GLL_rho.D1\n",
    "G = np.zeros((N_rho + 1, N_rho - 1))\n",
    "G[1:N_rho, :] = np.eye(N_rho - 1)\n",
    "for j in range(1, N_rho):\n",
    "    G[0, j - 1] = -1 / D1[0, 0] * D1[0, j]\n",
    "D1_neumann = np.dot(D1, G)\n",
    "D2_rho_0 = np.dot(D1, D1_neumann)[1:N_rho,:]\n",
    "D1_neumann = D1_neumann[1:N_rho, :]"
   ]
  },
  {
   "cell_type": "code",
   "execution_count": 8,
   "id": "a731826a",
   "metadata": {},
   "outputs": [],
   "source": [
    "rho_inv_D1_rho_0 = D1_neumann #For m=0 we have Neumann conditions\n",
    "rho_inv_D1_rho = GLL_rho.D1[1:-1, 1:-1] #For m!=0 we have Dirichlet conditions\n",
    "\n",
    "for i in range(rho_inv_D1_rho.shape[0]):\n",
    "    for j in range(rho_inv_D1_rho.shape[1]):\n",
    "        rho_inv_D1_rho_0[i, j] /= rho[i]\n",
    "        rho_inv_D1_rho[i, j] /= rho[i]"
   ]
  },
  {
   "cell_type": "code",
   "execution_count": 9,
   "id": "3725cc7e",
   "metadata": {},
   "outputs": [],
   "source": [
    "I_rho = np.eye(N_rho - 1)\n",
    "I_z = np.eye(N_z - 1)\n",
    "\n",
    "#Setup the kinetic energy matrix for m=0\n",
    "T0 = -0.5 * (\n",
    "    np.kron(D2_rho_0, I_z)\n",
    "    + np.kron(I_rho, D2_z)\n",
    "    + np.kron(rho_inv_D1_rho_0, I_z)\n",
    ")\n",
    "\n",
    "#Setup the kinetic energy matrix for m=1\n",
    "T1 = -0.5 * (\n",
    "    np.kron(D2_rho, I_z)\n",
    "    + np.kron(I_rho, D2_z)\n",
    "    + np.kron(np.diag(-(1**2) / rho**2), I_z)\n",
    "    + np.kron(rho_inv_D1_rho, I_z)\n",
    ")"
   ]
  },
  {
   "cell_type": "code",
   "execution_count": 10,
   "id": "c48e7e10",
   "metadata": {},
   "outputs": [],
   "source": [
    "rho_grid, z_grid = np.meshgrid(rho, z, indexing='ij')\n",
    "r = np.sqrt(rho_grid**2 + z_grid**2)\n",
    "V = 0.5 * (rho_grid**2 + z_grid**2)"
   ]
  },
  {
   "cell_type": "code",
   "execution_count": 11,
   "id": "d7f2064d",
   "metadata": {},
   "outputs": [],
   "source": [
    "H0 = T0+np.diag(V.ravel())\n",
    "H1 = T1+np.diag(V.ravel())\n",
    "\n",
    "eps0, C0 = np.linalg.eig(H0)\n",
    "eps1, C1 = np.linalg.eig(H1)"
   ]
  },
  {
   "cell_type": "code",
   "execution_count": 12,
   "id": "6e3b144e",
   "metadata": {},
   "outputs": [
    {
     "name": "stdout",
     "output_type": "stream",
     "text": [
      "[1.5 2.5 3.5]\n",
      "[2.5 3.5 4.5]\n"
     ]
    }
   ],
   "source": [
    "idx0 = np.argsort(eps0)\n",
    "eps0 = eps0[idx0]\n",
    "C0 = C0[:, idx0]\n",
    "print(eps0[0:3])\n",
    "\n",
    "idx1 = np.argsort(eps1)\n",
    "eps1 = eps1[idx1]\n",
    "C1 = C1[:, idx1]\n",
    "print(eps1[0:3])"
   ]
  },
  {
   "cell_type": "code",
   "execution_count": null,
   "id": "f6b5df8e",
   "metadata": {},
   "outputs": [],
   "source": []
  }
 ],
 "metadata": {
  "kernelspec": {
   "display_name": "Python (base)",
   "language": "python",
   "name": "base"
  },
  "language_info": {
   "codemirror_mode": {
    "name": "ipython",
    "version": 3
   },
   "file_extension": ".py",
   "mimetype": "text/x-python",
   "name": "python",
   "nbconvert_exporter": "python",
   "pygments_lexer": "ipython3",
   "version": "3.8.3"
  }
 },
 "nbformat": 4,
 "nbformat_minor": 5
}
